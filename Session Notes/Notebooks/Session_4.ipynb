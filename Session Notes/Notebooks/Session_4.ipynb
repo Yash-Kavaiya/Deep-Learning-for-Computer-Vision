{
  "nbformat": 4,
  "nbformat_minor": 0,
  "metadata": {
    "colab": {
      "provenance": []
    },
    "kernelspec": {
      "name": "python3",
      "display_name": "Python 3"
    },
    "language_info": {
      "name": "python"
    }
  },
  "cells": [
    {
      "cell_type": "markdown",
      "source": [
        "# Convolution from scratch"
      ],
      "metadata": {
        "id": "8Knq6DeEXaZC"
      }
    },
    {
      "cell_type": "code",
      "source": [
        "import numpy as np\n",
        "image = np.array([\n",
        "    [1, 2, 3, 0, 1],\n",
        "    [0, 1, 2, 3, 2],\n",
        "    [3, 0, 1, 2, 1],\n",
        "    [2, 1, 3, 0, 0],\n",
        "    [1, 2, 0, 1, 2]\n",
        "])\n",
        "\n",
        "image.shape"
      ],
      "metadata": {
        "colab": {
          "base_uri": "https://localhost:8080/"
        },
        "id": "Sdy6sg3jv33_",
        "outputId": "3572dfd0-ecc9-4544-881d-2b8d361ba582"
      },
      "execution_count": null,
      "outputs": [
        {
          "output_type": "execute_result",
          "data": {
            "text/plain": [
              "(5, 5)"
            ]
          },
          "metadata": {},
          "execution_count": 10
        }
      ]
    },
    {
      "cell_type": "code",
      "source": [
        "5-3+1, 5-3+1"
      ],
      "metadata": {
        "colab": {
          "base_uri": "https://localhost:8080/"
        },
        "id": "sb0A4OmOxXkC",
        "outputId": "b34f91f1-b15b-4762-9d39-106645d63c02"
      },
      "execution_count": null,
      "outputs": [
        {
          "output_type": "execute_result",
          "data": {
            "text/plain": [
              "(3, 3)"
            ]
          },
          "metadata": {},
          "execution_count": 12
        }
      ]
    },
    {
      "cell_type": "code",
      "execution_count": null,
      "metadata": {
        "colab": {
          "base_uri": "https://localhost:8080/"
        },
        "id": "uxcMqSW3XY77",
        "outputId": "b24d5140-0caa-4aa8-c496-c43c71fb40b6"
      },
      "outputs": [
        {
          "output_type": "stream",
          "name": "stdout",
          "text": [
            "Convolution Output:\n",
            " [[  0.   0.  -6.]\n",
            " [  6.   3.  -3.]\n",
            " [  3. -10.   6.]]\n"
          ]
        }
      ],
      "source": [
        "import numpy as np\n",
        "\n",
        "# Define a simple 5x5 grayscale image\n",
        "image = np.array([\n",
        "    [1, 2, 3, 0, 1],\n",
        "    [0, 1, 2, 3, 2],\n",
        "    [3, 0, 1, 2, 1],\n",
        "    [2, 1, 3, 0, 0],\n",
        "    [1, 2, 0, 1, 2]\n",
        "])\n",
        "\n",
        "# Define a 3x3 kernel (filter)\n",
        "kernel = np.array([\n",
        "    [0, 1, 0],\n",
        "    [1, -4, 1],\n",
        "    [0, 1, 0]\n",
        "])\n",
        "\n",
        "# Define convolution operation\n",
        "def convolve(image, kernel):\n",
        "    image_h, image_w = image.shape\n",
        "    kernel_h, kernel_w = kernel.shape\n",
        "    output_h = image_h - kernel_h + 1\n",
        "    output_w = image_w - kernel_w + 1\n",
        "    output = np.zeros((output_h, output_w))\n",
        "\n",
        "    for i in range(output_h):\n",
        "        for j in range(output_w):\n",
        "            output[i, j] = np.sum(image[i:i+kernel_h, j:j+kernel_w] * kernel)\n",
        "\n",
        "    return output\n",
        "\n",
        "# Apply the convolution\n",
        "output = convolve(image, kernel)\n",
        "print(\"Convolution Output:\\n\", output)\n"
      ]
    },
    {
      "cell_type": "code",
      "source": [
        "padding = 1\n",
        "ouput - 5*5"
      ],
      "metadata": {
        "id": "23bPHePoyUCP"
      },
      "execution_count": null,
      "outputs": []
    },
    {
      "cell_type": "markdown",
      "source": [
        "# Padding with stride = 1"
      ],
      "metadata": {
        "id": "9ShWacTIX8rv"
      }
    },
    {
      "cell_type": "markdown",
      "source": [
        "1. Padding: Zero-padding is added to the image to control the spatial dimensions of the output.\n",
        "2. Stride: Controls how much the filter moves at each step. A stride of 1 means the filter moves one pixel at a time.\n",
        "3. Convolution with Padding and Stride: The output is now controlled by the padding and stride, allowing us to maintain or reduce the spatial dimensions of the output."
      ],
      "metadata": {
        "id": "KNoKT5DXYAlW"
      }
    },
    {
      "cell_type": "code",
      "source": [
        "# Adding padding\n",
        "def pad_image(image, pad):\n",
        "    return np.pad(image, pad, mode='constant', constant_values=0) # zero padding\n",
        "\n",
        "pad_image(image, 1)"
      ],
      "metadata": {
        "colab": {
          "base_uri": "https://localhost:8080/"
        },
        "id": "O4_yqiJzyk5E",
        "outputId": "c9e303ef-7547-4430-ce80-8be6641849b1"
      },
      "execution_count": null,
      "outputs": [
        {
          "output_type": "execute_result",
          "data": {
            "text/plain": [
              "array([[0, 0, 0, 0, 0, 0, 0],\n",
              "       [0, 1, 2, 3, 0, 1, 0],\n",
              "       [0, 0, 1, 2, 3, 2, 0],\n",
              "       [0, 3, 0, 1, 2, 1, 0],\n",
              "       [0, 2, 1, 3, 0, 0, 0],\n",
              "       [0, 1, 2, 0, 1, 2, 0],\n",
              "       [0, 0, 0, 0, 0, 0, 0]])"
            ]
          },
          "metadata": {},
          "execution_count": 13
        }
      ]
    },
    {
      "cell_type": "code",
      "source": [
        "# Adding padding\n",
        "def pad_image(image, pad):\n",
        "    return np.pad(image, pad, mode='constant', constant_values=0) # zero padding\n",
        "\n",
        "# Modify convolution to include stride and padding\n",
        "def convolve_with_padding_and_stride(image, kernel, stride=1, padding=0):\n",
        "    if padding > 0:\n",
        "        image = pad_image(image, padding)\n",
        "\n",
        "    image_h, image_w = image.shape\n",
        "    kernel_h, kernel_w = kernel.shape\n",
        "    output_h = (image_h - kernel_h) // stride + 1\n",
        "    output_w = (image_w - kernel_w) // stride + 1\n",
        "    output = np.zeros((output_h, output_w))\n",
        "\n",
        "    for i in range(0, output_h * stride, stride):\n",
        "        for j in range(0, output_w * stride, stride):\n",
        "            output[i // stride, j // stride] = np.sum(\n",
        "                image[i:i+kernel_h, j:j+kernel_w] * kernel\n",
        "            )\n",
        "\n",
        "    return output\n",
        "\n",
        "# Define a simple 5x5 grayscale image\n",
        "image = np.array([\n",
        "    [1, 2, 3, 0, 1],\n",
        "    [0, 1, 2, 3, 2],\n",
        "    [3, 0, 1, 2, 1],\n",
        "    [2, 1, 3, 0, 0],\n",
        "    [1, 2, 0, 1, 2]\n",
        "])\n",
        "\n",
        "# Apply the convolution with padding and stride\n",
        "padded_output = convolve_with_padding_and_stride(image, kernel, stride=1, padding=1)\n",
        "print(\"Padded Convolution Output:\\n\", padded_output)\n"
      ],
      "metadata": {
        "colab": {
          "base_uri": "https://localhost:8080/"
        },
        "id": "7-S6-1yTXdSG",
        "outputId": "c9f110bd-e2be-40b9-c406-30822a176a1c"
      },
      "execution_count": null,
      "outputs": [
        {
          "output_type": "stream",
          "name": "stdout",
          "text": [
            "Padded Convolution Output:\n",
            " [[ -2.  -3.  -8.   7.  -2.]\n",
            " [  5.   0.   0.  -6.  -3.]\n",
            " [-10.   6.   3.  -3.   0.]\n",
            " [ -3.   3. -10.   6.   3.]\n",
            " [  0.  -6.   6.  -2.  -7.]]\n"
          ]
        }
      ]
    },
    {
      "cell_type": "markdown",
      "source": [
        "# Max Pooling"
      ],
      "metadata": {
        "id": "CaPxAd9tYHor"
      }
    },
    {
      "cell_type": "code",
      "source": [
        "# Max Pooling function\n",
        "def max_pooling(image, pool_size, stride):\n",
        "    image_h, image_w = image.shape\n",
        "    output_h = (image_h - pool_size) // stride + 1\n",
        "    output_w = (image_w - pool_size) // stride + 1\n",
        "    output = np.zeros((output_h, output_w))\n",
        "\n",
        "    for i in range(0, output_h * stride, stride):\n",
        "        for j in range(0, output_w * stride, stride):\n",
        "            output[i // stride, j // stride] = np.max(\n",
        "                image[i:i+pool_size, j:j+pool_size]\n",
        "            )\n",
        "\n",
        "    return output\n",
        "\n",
        "\n",
        "image = np.array([\n",
        "    [1, 2, 3, 0, 1],\n",
        "    [0, 1, 2, 3, 2],\n",
        "    [3, 0, 1, 2, 1],\n",
        "    [2, 1, 3, 0, 0],\n",
        "    [1, 2, 0, 1, 2]\n",
        "])\n",
        "# Apply max pooling\n",
        "pooled_output = max_pooling(image, pool_size=2, stride=2)\n",
        "print(\"Max Pooling Output:\\n\", pooled_output)\n"
      ],
      "metadata": {
        "colab": {
          "base_uri": "https://localhost:8080/"
        },
        "id": "Wnw262EEXyAg",
        "outputId": "0e0840a2-db4d-4a57-a68a-fe09307397b5"
      },
      "execution_count": null,
      "outputs": [
        {
          "output_type": "stream",
          "name": "stdout",
          "text": [
            "Max Pooling Output:\n",
            " [[2. 3.]\n",
            " [3. 3.]]\n"
          ]
        }
      ]
    },
    {
      "cell_type": "markdown",
      "source": [
        "# Convolution on RGB Images"
      ],
      "metadata": {
        "id": "OBte_dTRNM79"
      }
    },
    {
      "cell_type": "code",
      "source": [
        "import numpy as np\n",
        "\n",
        "# Define a simple 5x5x3 RGB image (3 channels)\n",
        "image = np.array([\n",
        "    [[1, 0, 2], [2, 1, 1], [3, 2, 0], [0, 1, 1], [1, 0, 2]],\n",
        "    [[0, 1, 0], [1, 0, 1], [2, 2, 2], [3, 1, 3], [2, 0, 1]],\n",
        "    [[3, 0, 2], [0, 1, 0], [1, 0, 1], [2, 2, 2], [1, 0, 0]],\n",
        "    [[2, 1, 1], [1, 0, 2], [3, 3, 1], [0, 1, 0], [0, 2, 1]],\n",
        "    [[1, 2, 2], [2, 1, 0], [0, 0, 1], [1, 2, 2], [2, 1, 1]]\n",
        "])\n",
        "\n",
        "image.shape"
      ],
      "metadata": {
        "colab": {
          "base_uri": "https://localhost:8080/"
        },
        "id": "ulXTndcT0hsV",
        "outputId": "9dbda021-3c35-465e-934b-9779466fe19e"
      },
      "execution_count": null,
      "outputs": [
        {
          "output_type": "execute_result",
          "data": {
            "text/plain": [
              "(5, 5, 3)"
            ]
          },
          "metadata": {},
          "execution_count": 2
        }
      ]
    },
    {
      "cell_type": "code",
      "source": [
        "# Define a 3x3x3 filter (kernel) for each channel (RGB)\n",
        "kernel = np.array([\n",
        "    [[0, 1, 0], [1, -1, 1], [0, 1, 0]],\n",
        "    [[1, 0, 1], [0, -1, 0], [1, 0, 1]],\n",
        "    [[0, 1, 0], [1, 1, 1], [0, 1, 0]]\n",
        "])\n",
        "\n",
        "kernel.shape"
      ],
      "metadata": {
        "colab": {
          "base_uri": "https://localhost:8080/"
        },
        "id": "ngx8x4Me0q2R",
        "outputId": "2f993f20-09cd-4075-eb3c-3d7aa15b4f53"
      },
      "execution_count": null,
      "outputs": [
        {
          "output_type": "execute_result",
          "data": {
            "text/plain": [
              "(3, 3, 3)"
            ]
          },
          "metadata": {},
          "execution_count": 3
        }
      ]
    },
    {
      "cell_type": "code",
      "source": [
        "image_h, image_w, image_c = image.shape\n",
        "\n",
        "print(image_h, image_w, image_c)\n",
        "kernel_h, kernel_w, kernel_c = kernel.shape\n",
        "print(kernel_h, kernel_w, kernel_c )\n",
        "output_h = image_h - kernel_h + 1\n",
        "output_w = image_w - kernel_w + 1\n",
        "output = np.zeros((output_h, output_w, 1))\n",
        "output.shape"
      ],
      "metadata": {
        "colab": {
          "base_uri": "https://localhost:8080/"
        },
        "id": "2AlYmWLF03O2",
        "outputId": "98dd07f9-0bad-4479-ea11-4e5cf66088a8"
      },
      "execution_count": null,
      "outputs": [
        {
          "output_type": "stream",
          "name": "stdout",
          "text": [
            "5 5 3\n",
            "3 3 3\n"
          ]
        },
        {
          "output_type": "execute_result",
          "data": {
            "text/plain": [
              "(3, 3, 1)"
            ]
          },
          "metadata": {},
          "execution_count": 10
        }
      ]
    },
    {
      "cell_type": "code",
      "source": [
        "for k in range(image_c):  # Apply the convolution for each channel\n",
        "        for i in range(output_h):\n",
        "            for j in range(output_w):\n",
        "                # print(np.sum(image[i:i+kernel_h, j:j+kernel_w, k] * kernel))\n",
        "                output[i, j] = np.sum(image[i:i+kernel_h, j:j+kernel_w, k] * kernel)\n",
        "                # break\n",
        "            # break\n",
        "        # break\n",
        "output"
      ],
      "metadata": {
        "colab": {
          "base_uri": "https://localhost:8080/"
        },
        "id": "LG-YCNqo1VuR",
        "outputId": "3e238111-517c-427d-a014-e9aa571a552c"
      },
      "execution_count": null,
      "outputs": [
        {
          "output_type": "execute_result",
          "data": {
            "text/plain": [
              "array([[[10.],\n",
              "        [12.],\n",
              "        [12.]],\n",
              "\n",
              "       [[16.],\n",
              "        [15.],\n",
              "        [11.]],\n",
              "\n",
              "       [[ 8.],\n",
              "        [11.],\n",
              "        [15.]]])"
            ]
          },
          "metadata": {},
          "execution_count": 12
        }
      ]
    },
    {
      "cell_type": "code",
      "source": [
        "import numpy as np\n",
        "\n",
        "# Define a simple 5x5x3 RGB image (3 channels)\n",
        "image = np.array([\n",
        "    [[1, 0, 2], [2, 1, 1], [3, 2, 0], [0, 1, 1], [1, 0, 2]],\n",
        "    [[0, 1, 0], [1, 0, 1], [2, 2, 2], [3, 1, 3], [2, 0, 1]],\n",
        "    [[3, 0, 2], [0, 1, 0], [1, 0, 1], [2, 2, 2], [1, 0, 0]],\n",
        "    [[2, 1, 1], [1, 0, 2], [3, 3, 1], [0, 1, 0], [0, 2, 1]],\n",
        "    [[1, 2, 2], [2, 1, 0], [0, 0, 1], [1, 2, 2], [2, 1, 1]]\n",
        "])\n",
        "\n",
        "# Define a 3x3x3 filter (kernel) for each channel (RGB)\n",
        "kernel = np.array([\n",
        "    [[0, 1, 0], [1, -1, 1], [0, 1, 0]],\n",
        "    [[1, 0, 1], [0, -1, 0], [1, 0, 1]],\n",
        "    [[0, 1, 0], [1, 1, 1], [0, 1, 0]]\n",
        "])\n",
        "\n",
        "# Convolution operation\n",
        "def convolve_rgb(image, kernel):\n",
        "    image_h, image_w, image_c = image.shape\n",
        "    kernel_h, kernel_w, kernel_c = kernel.shape\n",
        "    output_h = image_h - kernel_h + 1\n",
        "    output_w = image_w - kernel_w + 1\n",
        "    output = np.zeros((output_h, output_w, 1))\n",
        "\n",
        "    for k in range(image_c):  # Apply the convolution for each channel\n",
        "        for i in range(output_h):\n",
        "            for j in range(output_w):\n",
        "                output[i, j] = np.sum(image[i:i+kernel_h, j:j+kernel_w, k] * kernel)\n",
        "    return output\n",
        "\n",
        "# Apply the convolution\n",
        "output = convolve_rgb(image, kernel)\n",
        "print(\"Convolution Output:\\n\", output)"
      ],
      "metadata": {
        "colab": {
          "base_uri": "https://localhost:8080/"
        },
        "id": "8N7Zq1k3NMou",
        "outputId": "7610a439-82c6-475f-97e0-ad1f6c5ba6b8"
      },
      "execution_count": null,
      "outputs": [
        {
          "output_type": "stream",
          "name": "stdout",
          "text": [
            "Convolution Output:\n",
            " [[[10.]\n",
            "  [12.]\n",
            "  [12.]]\n",
            "\n",
            " [[16.]\n",
            "  [15.]\n",
            "  [11.]]\n",
            "\n",
            " [[ 8.]\n",
            "  [11.]\n",
            "  [15.]]]\n"
          ]
        }
      ]
    },
    {
      "cell_type": "markdown",
      "source": [
        "# Implementing the same with Keras"
      ],
      "metadata": {
        "id": "CHD4-iCEYlIb"
      }
    },
    {
      "cell_type": "code",
      "source": [
        "import tensorflow as tf\n",
        "from tensorflow.keras import layers, models\n",
        "\n",
        "# Example input shape for a 32x32 RGB image\n",
        "input_shape = (100, 100, 3)\n",
        "\n",
        "# Define the model\n",
        "model = models.Sequential()\n",
        "\n",
        "# Add Input layer\n",
        "model.add(layers.Input(shape=input_shape))\n",
        "\n",
        "# Adding Convolution Layer\n",
        "model.add(layers.Conv2D(16, (3, 3), padding='same', strides=1, activation='relu'))\n",
        "\n",
        "# Adding Max Pooling Layer\n",
        "model.add(layers.MaxPooling2D(pool_size=(2, 2), strides=2))\n",
        "\n",
        "# Adding more convolutional and pooling layers as needed\n",
        "model.add(layers.Conv2D(32, (3, 3), padding='same', strides=1, activation='relu'))\n",
        "model.add(layers.MaxPooling2D(pool_size=(2, 2), strides=2))\n",
        "\n",
        "# Print model summary to see the structure\n",
        "model.summary()\n"
      ],
      "metadata": {
        "colab": {
          "base_uri": "https://localhost:8080/",
          "height": 257
        },
        "id": "qlHVGCbtYHQk",
        "outputId": "86f2fe30-5a8e-43a2-b47d-5f127c0ad2a2"
      },
      "execution_count": null,
      "outputs": [
        {
          "output_type": "display_data",
          "data": {
            "text/plain": [
              "\u001b[1mModel: \"sequential\"\u001b[0m\n"
            ],
            "text/html": [
              "<pre style=\"white-space:pre;overflow-x:auto;line-height:normal;font-family:Menlo,'DejaVu Sans Mono',consolas,'Courier New',monospace\"><span style=\"font-weight: bold\">Model: \"sequential\"</span>\n",
              "</pre>\n"
            ]
          },
          "metadata": {}
        },
        {
          "output_type": "display_data",
          "data": {
            "text/plain": [
              "┏━━━━━━━━━━━━━━━━━━━━━━━━━━━━━━━━━━━━━━┳━━━━━━━━━━━━━━━━━━━━━━━━━━━━━┳━━━━━━━━━━━━━━━━━┓\n",
              "┃\u001b[1m \u001b[0m\u001b[1mLayer (type)                        \u001b[0m\u001b[1m \u001b[0m┃\u001b[1m \u001b[0m\u001b[1mOutput Shape               \u001b[0m\u001b[1m \u001b[0m┃\u001b[1m \u001b[0m\u001b[1m        Param #\u001b[0m\u001b[1m \u001b[0m┃\n",
              "┡━━━━━━━━━━━━━━━━━━━━━━━━━━━━━━━━━━━━━━╇━━━━━━━━━━━━━━━━━━━━━━━━━━━━━╇━━━━━━━━━━━━━━━━━┩\n",
              "│ conv2d (\u001b[38;5;33mConv2D\u001b[0m)                      │ (\u001b[38;5;45mNone\u001b[0m, \u001b[38;5;34m100\u001b[0m, \u001b[38;5;34m100\u001b[0m, \u001b[38;5;34m16\u001b[0m)        │             \u001b[38;5;34m448\u001b[0m │\n",
              "├──────────────────────────────────────┼─────────────────────────────┼─────────────────┤\n",
              "│ max_pooling2d (\u001b[38;5;33mMaxPooling2D\u001b[0m)         │ (\u001b[38;5;45mNone\u001b[0m, \u001b[38;5;34m50\u001b[0m, \u001b[38;5;34m50\u001b[0m, \u001b[38;5;34m16\u001b[0m)          │               \u001b[38;5;34m0\u001b[0m │\n",
              "├──────────────────────────────────────┼─────────────────────────────┼─────────────────┤\n",
              "│ conv2d_1 (\u001b[38;5;33mConv2D\u001b[0m)                    │ (\u001b[38;5;45mNone\u001b[0m, \u001b[38;5;34m50\u001b[0m, \u001b[38;5;34m50\u001b[0m, \u001b[38;5;34m32\u001b[0m)          │           \u001b[38;5;34m4,640\u001b[0m │\n",
              "├──────────────────────────────────────┼─────────────────────────────┼─────────────────┤\n",
              "│ max_pooling2d_1 (\u001b[38;5;33mMaxPooling2D\u001b[0m)       │ (\u001b[38;5;45mNone\u001b[0m, \u001b[38;5;34m25\u001b[0m, \u001b[38;5;34m25\u001b[0m, \u001b[38;5;34m32\u001b[0m)          │               \u001b[38;5;34m0\u001b[0m │\n",
              "└──────────────────────────────────────┴─────────────────────────────┴─────────────────┘\n"
            ],
            "text/html": [
              "<pre style=\"white-space:pre;overflow-x:auto;line-height:normal;font-family:Menlo,'DejaVu Sans Mono',consolas,'Courier New',monospace\">┏━━━━━━━━━━━━━━━━━━━━━━━━━━━━━━━━━━━━━━┳━━━━━━━━━━━━━━━━━━━━━━━━━━━━━┳━━━━━━━━━━━━━━━━━┓\n",
              "┃<span style=\"font-weight: bold\"> Layer (type)                         </span>┃<span style=\"font-weight: bold\"> Output Shape                </span>┃<span style=\"font-weight: bold\">         Param # </span>┃\n",
              "┡━━━━━━━━━━━━━━━━━━━━━━━━━━━━━━━━━━━━━━╇━━━━━━━━━━━━━━━━━━━━━━━━━━━━━╇━━━━━━━━━━━━━━━━━┩\n",
              "│ conv2d (<span style=\"color: #0087ff; text-decoration-color: #0087ff\">Conv2D</span>)                      │ (<span style=\"color: #00d7ff; text-decoration-color: #00d7ff\">None</span>, <span style=\"color: #00af00; text-decoration-color: #00af00\">100</span>, <span style=\"color: #00af00; text-decoration-color: #00af00\">100</span>, <span style=\"color: #00af00; text-decoration-color: #00af00\">16</span>)        │             <span style=\"color: #00af00; text-decoration-color: #00af00\">448</span> │\n",
              "├──────────────────────────────────────┼─────────────────────────────┼─────────────────┤\n",
              "│ max_pooling2d (<span style=\"color: #0087ff; text-decoration-color: #0087ff\">MaxPooling2D</span>)         │ (<span style=\"color: #00d7ff; text-decoration-color: #00d7ff\">None</span>, <span style=\"color: #00af00; text-decoration-color: #00af00\">50</span>, <span style=\"color: #00af00; text-decoration-color: #00af00\">50</span>, <span style=\"color: #00af00; text-decoration-color: #00af00\">16</span>)          │               <span style=\"color: #00af00; text-decoration-color: #00af00\">0</span> │\n",
              "├──────────────────────────────────────┼─────────────────────────────┼─────────────────┤\n",
              "│ conv2d_1 (<span style=\"color: #0087ff; text-decoration-color: #0087ff\">Conv2D</span>)                    │ (<span style=\"color: #00d7ff; text-decoration-color: #00d7ff\">None</span>, <span style=\"color: #00af00; text-decoration-color: #00af00\">50</span>, <span style=\"color: #00af00; text-decoration-color: #00af00\">50</span>, <span style=\"color: #00af00; text-decoration-color: #00af00\">32</span>)          │           <span style=\"color: #00af00; text-decoration-color: #00af00\">4,640</span> │\n",
              "├──────────────────────────────────────┼─────────────────────────────┼─────────────────┤\n",
              "│ max_pooling2d_1 (<span style=\"color: #0087ff; text-decoration-color: #0087ff\">MaxPooling2D</span>)       │ (<span style=\"color: #00d7ff; text-decoration-color: #00d7ff\">None</span>, <span style=\"color: #00af00; text-decoration-color: #00af00\">25</span>, <span style=\"color: #00af00; text-decoration-color: #00af00\">25</span>, <span style=\"color: #00af00; text-decoration-color: #00af00\">32</span>)          │               <span style=\"color: #00af00; text-decoration-color: #00af00\">0</span> │\n",
              "└──────────────────────────────────────┴─────────────────────────────┴─────────────────┘\n",
              "</pre>\n"
            ]
          },
          "metadata": {}
        },
        {
          "output_type": "display_data",
          "data": {
            "text/plain": [
              "\u001b[1m Total params: \u001b[0m\u001b[38;5;34m5,088\u001b[0m (19.88 KB)\n"
            ],
            "text/html": [
              "<pre style=\"white-space:pre;overflow-x:auto;line-height:normal;font-family:Menlo,'DejaVu Sans Mono',consolas,'Courier New',monospace\"><span style=\"font-weight: bold\"> Total params: </span><span style=\"color: #00af00; text-decoration-color: #00af00\">5,088</span> (19.88 KB)\n",
              "</pre>\n"
            ]
          },
          "metadata": {}
        },
        {
          "output_type": "display_data",
          "data": {
            "text/plain": [
              "\u001b[1m Trainable params: \u001b[0m\u001b[38;5;34m5,088\u001b[0m (19.88 KB)\n"
            ],
            "text/html": [
              "<pre style=\"white-space:pre;overflow-x:auto;line-height:normal;font-family:Menlo,'DejaVu Sans Mono',consolas,'Courier New',monospace\"><span style=\"font-weight: bold\"> Trainable params: </span><span style=\"color: #00af00; text-decoration-color: #00af00\">5,088</span> (19.88 KB)\n",
              "</pre>\n"
            ]
          },
          "metadata": {}
        },
        {
          "output_type": "display_data",
          "data": {
            "text/plain": [
              "\u001b[1m Non-trainable params: \u001b[0m\u001b[38;5;34m0\u001b[0m (0.00 B)\n"
            ],
            "text/html": [
              "<pre style=\"white-space:pre;overflow-x:auto;line-height:normal;font-family:Menlo,'DejaVu Sans Mono',consolas,'Courier New',monospace\"><span style=\"font-weight: bold\"> Non-trainable params: </span><span style=\"color: #00af00; text-decoration-color: #00af00\">0</span> (0.00 B)\n",
              "</pre>\n"
            ]
          },
          "metadata": {}
        }
      ]
    },
    {
      "cell_type": "markdown",
      "source": [
        "1. Learn About Number of Parameters calculation.\n",
        "2. Convolution on RGB Images."
      ],
      "metadata": {
        "id": "vbQsfXA9ZA4f"
      }
    },
    {
      "cell_type": "code",
      "source": [],
      "metadata": {
        "id": "TvCOA0jJYo3G"
      },
      "execution_count": null,
      "outputs": []
    }
  ]
}