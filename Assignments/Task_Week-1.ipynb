{
 "cells": [
  {
   "cell_type": "markdown",
   "metadata": {},
   "source": [
    "# Task - 1"
   ]
  },
  {
   "cell_type": "code",
   "execution_count": 5,
   "metadata": {
    "metadata": {}
   },
   "outputs": [
    {
     "name": "stdout",
     "output_type": "stream",
     "text": [
      "\n",
      "\u001b[1m[\u001b[0m\u001b[34;49mnotice\u001b[0m\u001b[1;39;49m]\u001b[0m\u001b[39;49m A new release of pip is available: \u001b[0m\u001b[31;49m24.1.2\u001b[0m\u001b[39;49m -> \u001b[0m\u001b[32;49m24.2\u001b[0m\n",
      "\u001b[1m[\u001b[0m\u001b[34;49mnotice\u001b[0m\u001b[1;39;49m]\u001b[0m\u001b[39;49m To update, run: \u001b[0m\u001b[32;49mpython3 -m pip install --upgrade pip\u001b[0m\n"
     ]
    }
   ],
   "source": [
    "!pip install -qU opencv-python"
   ]
  },
  {
   "cell_type": "markdown",
   "metadata": {},
   "source": [
    "\n",
    "## Q1: Create a function to convert RGB to Grey scale image. Use numpy, pytorch, or tf but don't direct available functions.\n",
    "\n",
    "Hint: Use the formula: Gray = 0.299*R + 0.587*G + 0.114*B for the conversion."
   ]
  },
  {
   "cell_type": "code",
   "execution_count": 7,
   "metadata": {
    "metadata": {}
   },
   "outputs": [],
   "source": [
    "import numpy as np\n",
    "from PIL import Image\n",
    "rgb_image = np.array(Image.open(\"../Images/Business.png\"))"
   ]
  },
  {
   "cell_type": "code",
   "execution_count": 15,
   "metadata": {
    "metadata": {}
   },
   "outputs": [
    {
     "data": {
      "text/plain": [
       "(1080, 1920, 3)"
      ]
     },
     "execution_count": 15,
     "metadata": {},
     "output_type": "execute_result"
    }
   ],
   "source": [
    "np.shape(rgb_image)"
   ]
  },
  {
   "cell_type": "code",
   "execution_count": 4,
   "metadata": {
    "metadata": {}
   },
   "outputs": [],
   "source": [
    "import numpy as np\n",
    "from PIL import Image\n",
    "rgb_image = np.array(Image.open(\"../Images/Business.png\"))\n",
    "gray_image = rgb_to_grayscale(rgb_image)\n",
    "gray_image\n",
    "import numpy as np\n",
    "\n",
    "def rgb_to_grayscale(image):\n",
    "    \"\"\"\n",
    "    Convert an RGB image to grayscale.\n",
    "    \n",
    "    Parameters:\n",
    "    image (numpy.ndarray): Input RGB image as a numpy array with shape (height, width, 3)\n",
    "    \n",
    "    Returns:\n",
    "    numpy.ndarray: Grayscale image as a numpy array with shape (height, width)\n",
    "    \"\"\"\n",
    "    # Check if the input image has 3 channels\n",
    "    if image.shape[-1] != 3:\n",
    "        raise ValueError(\"Input image must have 3 channels (RGB)\")\n",
    "    \n",
    "    # Extract R, G, B channels\n",
    "    r, g, b = image[:,:,0], image[:,:,1], image[:,:,2]\n",
    "    \n",
    "    # Apply the grayscale formula\n",
    "    gray = 0.299 * r + 0.587 * g + 0.114 * b\n",
    "    \n",
    "    # Ensure the output is in the correct data type (uint8)\n",
    "    gray = np.clip(gray, 0, 255).astype(np.uint8)\n",
    "    \n",
    "    return gray"
   ]
  },
  {
   "cell_type": "code",
   "execution_count": null,
   "metadata": {},
   "outputs": [],
   "source": []
  }
 ],
 "metadata": {
  "kernelspec": {
   "display_name": "Python 3",
   "language": "python",
   "name": "python3"
  },
  "language_info": {
   "codemirror_mode": {
    "name": "ipython",
    "version": 3
   },
   "file_extension": ".py",
   "mimetype": "text/x-python",
   "name": "python",
   "nbconvert_exporter": "python",
   "pygments_lexer": "ipython3",
   "version": "3.10.13"
  }
 },
 "nbformat": 4,
 "nbformat_minor": 2
}
